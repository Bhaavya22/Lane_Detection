{
 "cells": [
  {
   "cell_type": "code",
   "execution_count": 1,
   "id": "bb754881",
   "metadata": {},
   "outputs": [],
   "source": [
    "import cv2\n",
    "import numpy as np"
   ]
  },
  {
   "cell_type": "code",
   "execution_count": 2,
   "id": "4110446a",
   "metadata": {},
   "outputs": [
    {
     "ename": "SyntaxError",
     "evalue": "(unicode error) 'unicodeescape' codec can't decode bytes in position 31-32: truncated \\UXXXXXXXX escape (799070177.py, line 12)",
     "output_type": "error",
     "traceback": [
      "\u001b[1;36m  Cell \u001b[1;32mIn[2], line 12\u001b[1;36m\u001b[0m\n\u001b[1;33m    cv2.destroyAllWindows()\"\"\"\u001b[0m\n\u001b[1;37m                              ^\u001b[0m\n\u001b[1;31mSyntaxError\u001b[0m\u001b[1;31m:\u001b[0m (unicode error) 'unicodeescape' codec can't decode bytes in position 31-32: truncated \\UXXXXXXXX escape\n"
     ]
    }
   ],
   "source": [
    "\"\"\"capture = cv2.VideoCapture(r\"D:\\User Profile Data\\Desktop\\prog\\python\\projects\\Lane_Detection\\test_video.mp4\")\n",
    "ret, frame = capture.read()\n",
    "\n",
    "# Checking if the frame was read successfully\n",
    "if ret:\n",
    "    # Display the frame\n",
    "    cv2.imshow('Frame', frame)\n",
    "    cv2.waitKey(0)\n",
    "\n",
    "# Release the VideoCapture object and close any open windows\n",
    "capture.release()\n",
    "cv2.destroyAllWindows()\"\"\"\n"
   ]
  },
  {
   "cell_type": "code",
   "execution_count": 3,
   "id": "faae8a78",
   "metadata": {},
   "outputs": [],
   "source": [
    "capture= cv2.VideoCapture(r\"D:\\User Profile Data\\Desktop\\prog\\python\\projects\\Lane_Detection\\test_video.mp4\")"
   ]
  },
  {
   "cell_type": "code",
   "execution_count": 7,
   "id": "8fe92c78",
   "metadata": {},
   "outputs": [],
   "source": [
    "def preprocess_image(image):\n",
    "    gray = cv2.cvtColor(image, cv2.COLOR_BGR2GRAY)\n",
    "    blurred = cv2.GaussianBlur(gray, (5, 5), 0)\n",
    "    edges = cv2.Canny(blurred, 50, 150)\n",
    "    return edges\n",
    "\n",
    "def region_of_interest(image, vertices):\n",
    "    mask = np.zeros_like(image)\n",
    "    cv2.fillPoly(mask, vertices, 255)\n",
    "    masked_image = cv2.bitwise_and(image, mask)\n",
    "    return masked_image\n",
    "\n",
    "def detect_lines(image, rho, theta, threshold, min_line_length, max_line_gap):\n",
    "    lines = cv2.HoughLinesP(image, rho, theta, threshold, np.array([]), min_line_length, max_line_gap)\n",
    "    return lines\n",
    "\n",
    "def draw_lines(image, lines, color=(0, 0, 255), thickness=2):\n",
    "    for line in lines:\n",
    "        for x1, y1, x2, y2 in line:\n",
    "            cv2.line(image, (x1, y1), (x2, y2), color, thickness)\n",
    "\n",
    "def lane_detection(image):\n",
    "    height, width, _ = image.shape\n",
    "    \n",
    "    roi_vertices = np.array([[(0, height), (width // 2, height // 2), (width, height)]], dtype=np.int32)\n",
    "    \n",
    "    edges = preprocess_image(image)\n",
    "    roi_edges = region_of_interest(edges, roi_vertices)\n",
    "    \n",
    "    lines = detect_lines(roi_edges, rho=1, theta=np.pi/180, threshold=40, min_line_length=100, max_line_gap=50)\n",
    "    \n",
    "    lane_image = np.zeros_like(image)\n",
    "    draw_lines(lane_image, lines)\n",
    "    \n",
    "    result = cv2.addWeighted(image, 0.8, lane_image, 1, 0)\n",
    "    return result\n",
    "\n",
    "# Read the input video\n",
    "cap = cv2.VideoCapture('test_video.mp4')\n",
    "\n",
    "while cap.isOpened():\n",
    "    ret, frame = cap.read()\n",
    "    \n",
    "    if not ret:\n",
    "        break\n",
    "    \n",
    "    result = lane_detection(frame)\n",
    "    \n",
    "    cv2.imshow('Lane Detection', result)\n",
    "    \n",
    "    if cv2.waitKey(1) & 0xFF == ord('q'):\n",
    "        break\n",
    "\n",
    "cap.release()\n",
    "cv2.destroyAllWindows()\n"
   ]
  }
 ],
 "metadata": {
  "kernelspec": {
   "display_name": "Python 3 (ipykernel)",
   "language": "python",
   "name": "python3"
  },
  "language_info": {
   "codemirror_mode": {
    "name": "ipython",
    "version": 3
   },
   "file_extension": ".py",
   "mimetype": "text/x-python",
   "name": "python",
   "nbconvert_exporter": "python",
   "pygments_lexer": "ipython3",
   "version": "3.11.1"
  }
 },
 "nbformat": 4,
 "nbformat_minor": 5
}
